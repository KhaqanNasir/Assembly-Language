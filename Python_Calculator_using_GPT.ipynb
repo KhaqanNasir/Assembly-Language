{
  "nbformat": 4,
  "nbformat_minor": 0,
  "metadata": {
    "colab": {
      "provenance": [],
      "authorship_tag": "ABX9TyO8/bRNpLnqgZ6nP/M0ACcw",
      "include_colab_link": true
    },
    "kernelspec": {
      "name": "python3",
      "display_name": "Python 3"
    },
    "language_info": {
      "name": "python"
    }
  },
  "cells": [
    {
      "cell_type": "markdown",
      "metadata": {
        "id": "view-in-github",
        "colab_type": "text"
      },
      "source": [
        "<a href=\"https://colab.research.google.com/github/KhaqanNasir/Assembly-Language/blob/main/Python_Calculator_using_GPT.ipynb\" target=\"_parent\"><img src=\"https://colab.research.google.com/assets/colab-badge.svg\" alt=\"Open In Colab\"/></a>"
      ]
    },
    {
      "cell_type": "code",
      "execution_count": null,
      "metadata": {
        "colab": {
          "base_uri": "https://localhost:8080/"
        },
        "id": "Cym4qRt22uj6",
        "outputId": "245d636a-056b-485c-c9d8-66d00d5525ab"
      },
      "outputs": [
        {
          "output_type": "stream",
          "name": "stdout",
          "text": [
            "\n",
            "Simple Calculator\n",
            "1. Addition\n",
            "2. Subtraction\n",
            "3. Multiplication\n",
            "4. Division\n",
            "5. Exit\n",
            "\n",
            "Enter choice(1/2/3/4/5): 2\n",
            "Enter first number: 23\n",
            "Enter second number: 23\n",
            "Result: 23.0 - 23.0 = 0.0\n",
            "\n",
            "Simple Calculator\n",
            "1. Addition\n",
            "2. Subtraction\n",
            "3. Multiplication\n",
            "4. Division\n",
            "5. Exit\n",
            "\n",
            "Enter choice(1/2/3/4/5): 12\n",
            "Invalid choice! Please select a valid option.\n",
            "\n",
            "Simple Calculator\n",
            "1. Addition\n",
            "2. Subtraction\n",
            "3. Multiplication\n",
            "4. Division\n",
            "5. Exit\n",
            "\n",
            "Enter choice(1/2/3/4/5): 5\n",
            "Exiting the calculator. Goodbye!\n"
          ]
        }
      ],
      "source": [
        "# Simple Calculator\n",
        "\n",
        "def add(x, y):\n",
        "    return x + y\n",
        "\n",
        "def subtract(x, y):\n",
        "    return x - y\n",
        "\n",
        "def multiply(x, y):\n",
        "    return x * y\n",
        "\n",
        "def divide(x, y):\n",
        "    if y == 0:\n",
        "        return \"Error! Division by zero.\"\n",
        "    else:\n",
        "        return x / y\n",
        "\n",
        "# Main Program\n",
        "while True:\n",
        "    print(\"\\nSimple Calculator\")\n",
        "    print(\"1. Addition\")\n",
        "    print(\"2. Subtraction\")\n",
        "    print(\"3. Multiplication\")\n",
        "    print(\"4. Division\")\n",
        "    print(\"5. Exit\")\n",
        "\n",
        "    # Take input from the user\n",
        "    choice = input(\"\\nEnter choice(1/2/3/4/5): \")\n",
        "\n",
        "    if choice in ['1', '2', '3', '4']:\n",
        "        try:\n",
        "            num1 = float(input(\"Enter first number: \"))\n",
        "            num2 = float(input(\"Enter second number: \"))\n",
        "\n",
        "            if choice == '1':\n",
        "                print(f\"Result: {num1} + {num2} = {add(num1, num2)}\")\n",
        "            elif choice == '2':\n",
        "                print(f\"Result: {num1} - {num2} = {subtract(num1, num2)}\")\n",
        "            elif choice == '3':\n",
        "                print(f\"Result: {num1} * {num2} = {multiply(num1, num2)}\")\n",
        "            elif choice == '4':\n",
        "                print(f\"Result: {num1} / {num2} = {divide(num1, num2)}\")\n",
        "        except ValueError:\n",
        "            print(\"Invalid input! Please enter a valid number.\")\n",
        "\n",
        "    elif choice == '5':\n",
        "        print(\"Exiting the calculator. Goodbye!\")\n",
        "        break\n",
        "    else:\n",
        "        print(\"Invalid choice! Please select a valid option.\")\n"
      ]
    }
  ]
}